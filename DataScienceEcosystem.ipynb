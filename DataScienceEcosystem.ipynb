{
 "cells": [
  {
   "cell_type": "markdown",
   "id": "2c314c93-dd30-4fd7-991e-e7d613b2af75",
   "metadata": {},
   "source": [
    "# Data Science Tools and Ecosystem"
   ]
  },
  {
   "cell_type": "markdown",
   "id": "7b063f5b-d587-4c47-b5c4-24d614a8a135",
   "metadata": {
    "tags": []
   },
   "source": [
    "## In this notebook, Data Science Tools and Ecosystem are summarized"
   ]
  },
  {
   "cell_type": "markdown",
   "id": "133bbaa5-9186-47eb-b1d8-fb7c8880f193",
   "metadata": {
    "tags": []
   },
   "source": [
    "## **Objectives:**\n",
    "1. List popular languages for Data Science\n",
    "2. List commonly used libraries for Data Science\n",
    "3. Show a table of Data Science tools\n",
    "4. Introducing a rithmetic expression examplesS"
   ]
  },
  {
   "cell_type": "markdown",
   "id": "b0e7bf55-2e96-4407-ac9d-f58a969bbcb3",
   "metadata": {},
   "source": [
    "### Some of the popular languages that Data Scientists use are:\n",
    "1. Python\n",
    "2. R\n",
    "3. Java\n",
    "4. Java Script\n",
    "5. C"
   ]
  },
  {
   "cell_type": "markdown",
   "id": "f9ea9255-c34b-4c5d-9d88-bc5a2ccd8962",
   "metadata": {
    "tags": []
   },
   "source": [
    "### Some of the commonly used libraries used by Data Scientists include:\n",
    "\n",
    "1. Keras\n",
    "2. Numpy\n",
    "3. Matplotlib\n",
    "4. PyTorch\n",
    "5. Sciki Learn"
   ]
  },
  {
   "cell_type": "markdown",
   "id": "dd2126f1-2bb6-47f4-ad87-7686d52296d9",
   "metadata": {},
   "source": [
    "|Data Science Tools|\n",
    "------------------\n",
    "|Anaconda|\n",
    "|Jupyter Notebooks|\n",
    "|R Studio|\n",
    "|Apache Spark|"
   ]
  },
  {
   "cell_type": "markdown",
   "id": "b822b003-1703-4bc3-b1fb-0609cfb51d7f",
   "metadata": {},
   "source": [
    "### Below are a few examples of evaluating arithmetic expressions in Python"
   ]
  },
  {
   "cell_type": "code",
   "execution_count": 4,
   "id": "26fd6072-deb2-4133-9626-e8101ca65737",
   "metadata": {
    "tags": []
   },
   "outputs": [
    {
     "data": {
      "text/plain": [
       "17"
      ]
     },
     "execution_count": 4,
     "metadata": {},
     "output_type": "execute_result"
    }
   ],
   "source": [
    "(3*4)+5\n",
    "# This a simple arithmetic expression to mutiply then add integers"
   ]
  },
  {
   "cell_type": "code",
   "execution_count": 7,
   "id": "1dd893d6-f7d9-4025-a797-e08250721325",
   "metadata": {
    "tags": []
   },
   "outputs": [
    {
     "data": {
      "text/plain": [
       "3.3333333333333335"
      ]
     },
     "execution_count": 7,
     "metadata": {},
     "output_type": "execute_result"
    }
   ],
   "source": [
    "(200/60)\n",
    "#This will convert 200 minutes to hours by diving by 6"
   ]
  },
  {
   "cell_type": "markdown",
   "id": "2b32de7b-0a4f-4de7-a276-8946dd23efed",
   "metadata": {},
   "source": [
    "## Author \n",
    "---\n",
    "Murilo"
   ]
  }
 ],
 "metadata": {
  "kernelspec": {
   "display_name": "Python 3 (ipykernel)",
   "language": "python",
   "name": "python3"
  },
  "language_info": {
   "codemirror_mode": {
    "name": "ipython",
    "version": 3
   },
   "file_extension": ".py",
   "mimetype": "text/x-python",
   "name": "python",
   "nbconvert_exporter": "python",
   "pygments_lexer": "ipython3",
   "version": "3.11.5"
  }
 },
 "nbformat": 4,
 "nbformat_minor": 5
}
